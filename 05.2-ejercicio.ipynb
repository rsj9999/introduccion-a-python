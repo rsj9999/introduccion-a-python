{
 "cells": [
  {
   "cell_type": "markdown",
   "metadata": {},
   "source": [
    "Crear una clase `Fraccion` que implemente la representación de un número como una fracción (i.e. numerador/denominador).\n",
    "\n",
    "Debe implementar los siguientes métodos:\n",
    "* Suma\n",
    "* Resta\n",
    "* Multiplicación\n",
    "* Inversa\n",
    "* Imprimir su representación\n",
    "* Extra: Posibilidad de convertir el objeto a flotante."
   ]
  },
  {
   "cell_type": "code",
   "execution_count": 69,
   "metadata": {},
   "outputs": [],
   "source": [
    "import math\n",
    "\n",
    "class Fraccion(object):\n",
    "    \n",
    "    def __init__(self, numerator, denominator):\n",
    "        \"\"\"Iniatialized the numerator and denominator object\"\"\"\n",
    "        self.numerator = numerator\n",
    "        self.denominator = denominator\n",
    "        \n",
    "    def reduce_fraction(self):\n",
    "        \"\"\" Return the result of reduce fraction given numerator and denominator numbers\"\"\"\n",
    "        divisor_comun = math.gcd(self.numerator, self.denominator)\n",
    "        if divisor_comun != 1:\n",
    "            numerator = self.numerator//divisor_comun\n",
    "            denominator = self.denominator//divisor_comun\n",
    "            \n",
    "        return Fraccion(numerator, denominator)\n",
    "    \n",
    "    def __str__(self):\n",
    "        \"\"\" Return the result \"\"\"\n",
    "        if self.denominator == 1:\n",
    "            return \"Number is \" + str(self.numerator)\n",
    "        else:\n",
    "            return \"Number is \" + str(self.numerator) + \"/\" + str(self.denominator)\n",
    "    \n",
    "    def __add__(self, other):\n",
    "        \"\"\" Return the sum of two fractions \"\"\"\n",
    "        return Fraccion(self.numerator + other.numerator, self.denominator + other.denominator)\n",
    "    \n",
    "    def __sub__(self, other):\n",
    "        \"\"\" Return the subtraction of two fractions \"\"\"\n",
    "        return Fraccion(self.numerator - other.numerator, self.denominator - other.denominator)\n",
    "    \n",
    "    def __mul__(self, other):\n",
    "        \"\"\" Return the multiplication of two fractions \"\"\"\n",
    "        return Fraccion(self.numerator * other.numerator, self.denominator * other.denominator)\n",
    "    \n",
    "    def __inv__(self):\n",
    "        \"\"\" Return the inverse of a fraction \"\"\"\n",
    "        return Fraccion(self.denominator,self.numerator)\n",
    "        "
   ]
  },
  {
   "cell_type": "code",
   "execution_count": 70,
   "metadata": {},
   "outputs": [
    {
     "ename": "TypeError",
     "evalue": "unsupported operand type(s) for /: 'str' and 'str'",
     "output_type": "error",
     "traceback": [
      "\u001b[0;31m---------------------------------------------------------------------------\u001b[0m",
      "\u001b[0;31mTypeError\u001b[0m                                 Traceback (most recent call last)",
      "\u001b[0;32m<ipython-input-70-ed23dff0f3ed>\u001b[0m in \u001b[0;36m<module>\u001b[0;34m()\u001b[0m\n\u001b[1;32m     12\u001b[0m \u001b[0mc\u001b[0m \u001b[0;34m=\u001b[0m \u001b[0mnumber_1\u001b[0m \u001b[0;34m*\u001b[0m \u001b[0mnumber_2\u001b[0m\u001b[0;34m\u001b[0m\u001b[0m\n\u001b[1;32m     13\u001b[0m \u001b[0mnumber_fraction_c\u001b[0m \u001b[0;34m=\u001b[0m \u001b[0mFraccion\u001b[0m\u001b[0;34m.\u001b[0m\u001b[0mreduce_fraction\u001b[0m\u001b[0;34m(\u001b[0m\u001b[0mc\u001b[0m\u001b[0;34m)\u001b[0m\u001b[0;34m\u001b[0m\u001b[0m\n\u001b[0;32m---> 14\u001b[0;31m \u001b[0mnumber_fraction_inv_c\u001b[0m \u001b[0;34m=\u001b[0m \u001b[0mFraccion\u001b[0m\u001b[0;34m.\u001b[0m\u001b[0m__inv__\u001b[0m\u001b[0;34m(\u001b[0m\u001b[0mnumber_fraction_c\u001b[0m\u001b[0;34m)\u001b[0m\u001b[0;34m\u001b[0m\u001b[0m\n\u001b[0m\u001b[1;32m     15\u001b[0m \u001b[0;34m\u001b[0m\u001b[0m\n\u001b[1;32m     16\u001b[0m \u001b[0mprint\u001b[0m\u001b[0;34m(\u001b[0m\u001b[0;34m\"Fracción no reducida y reducida de la suma number_1 + number_2\"\u001b[0m\u001b[0;34m)\u001b[0m\u001b[0;34m\u001b[0m\u001b[0m\n",
      "\u001b[0;32m<ipython-input-69-b563e1f82d60>\u001b[0m in \u001b[0;36m__inv__\u001b[0;34m(self)\u001b[0m\n\u001b[1;32m     34\u001b[0m     \u001b[0;31m#HACER __inv__ BIEN!!\u001b[0m\u001b[0;34m\u001b[0m\u001b[0;34m\u001b[0m\u001b[0m\n\u001b[1;32m     35\u001b[0m     \u001b[0;32mdef\u001b[0m \u001b[0m__inv__\u001b[0m\u001b[0;34m(\u001b[0m\u001b[0mself\u001b[0m\u001b[0;34m)\u001b[0m\u001b[0;34m:\u001b[0m\u001b[0;34m\u001b[0m\u001b[0m\n\u001b[0;32m---> 36\u001b[0;31m         \u001b[0;32mreturn\u001b[0m \u001b[0mFraccion\u001b[0m\u001b[0;34m.\u001b[0m\u001b[0mreduce_fraction\u001b[0m\u001b[0;34m(\u001b[0m\u001b[0mstr\u001b[0m\u001b[0;34m(\u001b[0m\u001b[0mself\u001b[0m\u001b[0;34m.\u001b[0m\u001b[0mdenominator\u001b[0m\u001b[0;34m)\u001b[0m\u001b[0;34m/\u001b[0m\u001b[0mstr\u001b[0m\u001b[0;34m(\u001b[0m\u001b[0mself\u001b[0m\u001b[0;34m.\u001b[0m\u001b[0mnumerator\u001b[0m\u001b[0;34m)\u001b[0m\u001b[0;34m)\u001b[0m\u001b[0;34m\u001b[0m\u001b[0m\n\u001b[0m\u001b[1;32m     37\u001b[0m \u001b[0;34m\u001b[0m\u001b[0m\n",
      "\u001b[0;31mTypeError\u001b[0m: unsupported operand type(s) for /: 'str' and 'str'"
     ]
    }
   ],
   "source": [
    "number_1 = Fraccion(9,3)\n",
    "number_2 = Fraccion(5,1)\n",
    "\n",
    "#Fracción sin reducir\n",
    "a = number_1 + number_2\n",
    "#Fracción reducida\n",
    "number_fraction_a = Fraccion.reduce_fraction(a)\n",
    "\n",
    "b = number_1 - number_2\n",
    "number_fraction_b = Fraccion.reduce_fraction(b)\n",
    "\n",
    "c = number_1 * number_2 \n",
    "number_fraction_c = Fraccion.reduce_fraction(c)\n",
    "number_fraction_inv_c = Fraccion.__inv__(number_fraction_c)\n",
    "\n",
    "print(\"Fracción no reducida y reducida de la suma number_1 + number_2\")\n",
    "print(a)\n",
    "print(number_fraction_a)\n",
    "print()\n",
    "print(\"Fracción no reducida y reducida de la resta number_1 + number_2\")\n",
    "print(b)\n",
    "print(number_fraction_b)\n",
    "print()\n",
    "print(\"Fracción no reducida y reducida de la multiplicación number_1 + number_2\")\n",
    "print(c)\n",
    "print(number_fraction_c)\n",
    "print(\"El inverso de number_fraction_c is \" + str(number_fraction_inv_c))"
   ]
  },
  {
   "cell_type": "code",
   "execution_count": null,
   "metadata": {},
   "outputs": [],
   "source": []
  },
  {
   "cell_type": "code",
   "execution_count": null,
   "metadata": {},
   "outputs": [],
   "source": []
  }
 ],
 "metadata": {
  "kernelspec": {
   "display_name": "Python 3",
   "language": "python",
   "name": "python3"
  },
  "language_info": {
   "codemirror_mode": {
    "name": "ipython",
    "version": 3
   },
   "file_extension": ".py",
   "mimetype": "text/x-python",
   "name": "python",
   "nbconvert_exporter": "python",
   "pygments_lexer": "ipython3",
   "version": "3.6.5"
  }
 },
 "nbformat": 4,
 "nbformat_minor": 2
}
