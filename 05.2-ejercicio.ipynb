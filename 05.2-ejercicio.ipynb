{
 "cells": [
  {
   "cell_type": "markdown",
   "metadata": {},
   "source": [
    "Crear una clase `Fraccion` que implemente la representación de un número como una fracción (i.e. numerador/denominador).\n",
    "\n",
    "Debe implementar los siguientes métodos:\n",
    "* Suma\n",
    "* Resta\n",
    "* Multiplicación\n",
    "* Inversa\n",
    "* Imprimir su representación\n",
    "* Extra: Posibilidad de convertir el objeto a flotante."
   ]
  },
  {
   "cell_type": "code",
   "execution_count": 34,
   "metadata": {},
   "outputs": [],
   "source": [
    "class Fraccion(object):\n",
    "    \n",
    "    def __init__(self, numerator, denominator):\n",
    "        \"\"\"Iniatialized the numerator and denominator object\"\"\"\n",
    "        self.numerator = numerator\n",
    "        self.denominator = denominator\n",
    "        \n",
    "    def fraction(self):\n",
    "        \"\"\" Return the result of \"\"\"\n",
    "        number = self.numerator/self.denominator\n",
    "    \n",
    "        return str(number)\n",
    "    \n",
    "    def __str__(self):\n",
    "        return \"Number is \" + str(self.numerator) + \"/\" + str(self.denominator)\n",
    "    \n",
    "    def __add__(self, other):\n",
    "        return Fraccion(self.numerator + other.numerator, self.denominator + other.denominator)\n",
    "    \n",
    "    def __sub__(self, other):\n",
    "        return Fraccion(self.numerator - other.numerator, self.denominator - other.denominator)\n",
    "    \n",
    "        "
   ]
  },
  {
   "cell_type": "code",
   "execution_count": 35,
   "metadata": {},
   "outputs": [
    {
     "name": "stdout",
     "output_type": "stream",
     "text": [
      "Number is 14/4\n",
      "Number is 4/2\n"
     ]
    }
   ],
   "source": [
    "number_1 = Fraccion(9,3)\n",
    "number_2 = Fraccion(5,1)\n",
    "\n",
    "a = number_1 + number_2\n",
    "b = number_1 - number_2\n",
    "print(a)\n",
    "print(b)"
   ]
  },
  {
   "cell_type": "code",
   "execution_count": null,
   "metadata": {},
   "outputs": [],
   "source": []
  },
  {
   "cell_type": "code",
   "execution_count": null,
   "metadata": {},
   "outputs": [],
   "source": []
  }
 ],
 "metadata": {
  "kernelspec": {
   "display_name": "Python 3",
   "language": "python",
   "name": "python3"
  },
  "language_info": {
   "codemirror_mode": {
    "name": "ipython",
    "version": 3
   },
   "file_extension": ".py",
   "mimetype": "text/x-python",
   "name": "python",
   "nbconvert_exporter": "python",
   "pygments_lexer": "ipython3",
   "version": "3.6.5"
  }
 },
 "nbformat": 4,
 "nbformat_minor": 2
}
