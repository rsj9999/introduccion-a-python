{
 "cells": [
  {
   "cell_type": "code",
   "execution_count": 10,
   "metadata": {},
   "outputs": [
    {
     "name": "stdout",
     "output_type": "stream",
     "text": [
      "l: [44, 87, 63, 13, 99, 99, 24, 79, 63, 58, 68, 41, 93, 67, 66, 40, 43, 50, 33, 3, 22, 70, 93, 20, 82, 93, 41, 83, 13, 69, 52, 29, 98, 72, 44, 76, 94, 47, 53, 86, 50, 26, 68, 21, 54, 42, 75, 97, 61, 48, 77, 33, 77, 48, 65, 7, 33, 95, 77, 2, 18, 52, 51, 1, 72, 63, 7, 98, 24, 96, 24, 84, 36, 34, 80, 96, 38, 69, 38, 12, 49, 65, 35, 13, 49, 95, 25, 49, 78, 84, 60, 22, 14, 8, 96, 97, 77, 10, 37, 28]\n",
      "\n",
      "m: [11, 49, 74, 5, 92, 37, 7, 74, 27, 38, 31, 15, 79, 52, 57, 84, 83, 14, 90, 61, 54, 88, 90, 74, 8, 33, 61, 58, 3, 63, 42, 96, 39, 74, 61, 92, 44, 22, 86, 60, 88, 94, 38, 1, 50, 90, 74, 61, 54, 73, 38, 19, 72, 95, 34, 88, 70, 29, 22, 79, 98, 84, 24, 94, 77, 60, 63, 93, 55, 99, 47, 63, 29, 55, 88, 79, 28, 28, 77, 61, 83, 25, 31, 42, 89, 68, 52, 56, 39, 30, 17, 63, 86, 50, 5, 73, 52, 20, 33, 82]\n",
      "\n",
      "[89, 5, 39, 88, 73, 74, 11, 15, 17, 19, 55, 56, 57, 90, 27, 92, 30, 31]\n",
      "[89, 5, 39, 88, 73, 74, 11, 15, 17, 19, 55, 56, 57, 90, 27, 92, 30, 31]\n"
     ]
    }
   ],
   "source": [
    "# Escribir el codigo necesario para generar una lista que contenga\n",
    "# los elementos de l que no están en m\n",
    "\n",
    "import random\n",
    "\n",
    "l = [int(100*random.random()) for i in range(100)]\n",
    "m = [int(100*random.random()) for i in range(100)]\n",
    "\n",
    "print(\"l:\", l)\n",
    "print()\n",
    "print(\"m:\", m)\n",
    "\n",
    "# Escribe aquí el código\n",
    "print()\n",
    "lista = list(set(m)-set(l))\n",
    "lista_nueva = []\n",
    "for i in set(m)-set(l):\n",
    "    lista_nueva.append(i)\n",
    "    \n",
    "print(lista)\n",
    "print(lista_nueva)\n"
   ]
  },
  {
   "cell_type": "code",
   "execution_count": 11,
   "metadata": {},
   "outputs": [
    {
     "name": "stdout",
     "output_type": "stream",
     "text": [
      "0 1 2 4 8 16 "
     ]
    }
   ],
   "source": [
    "# Escribir el código necesario para calcular la sucesión de Fibonacci\n",
    "# para los \"n\" primeros términos, utilizando el esqueleto siguiente\n",
    "\n",
    "n = 20\n",
    "\n",
    "fib = [0, 1]  # Los dos primeros valores de la sucesión.\n",
    "\n",
    "# Escribe aquí el código\n",
    "while fib[0] < n:\n",
    "    print(fib[0], end = ' ')\n",
    "    fib[0] = fib[1]\n",
    "    fib[1] = fib[0] + fib[1]\n",
    "\n",
    "\n"
   ]
  },
  {
   "cell_type": "code",
   "execution_count": 12,
   "metadata": {},
   "outputs": [
    {
     "name": "stdout",
     "output_type": "stream",
     "text": [
      "I will cheer for you! Enter a word: Julia\n",
      "Enthusiasm level (1-10): 10\n",
      "Give me a  J! J\n",
      "Give me a  u! u\n",
      "Give me an l! l\n",
      "Give me an i! i\n",
      "Give me an a! a\n",
      "What does that spell?\n",
      "Julia !!!\n",
      "Julia !!!\n",
      "Julia !!!\n",
      "Julia !!!\n",
      "Julia !!!\n",
      "Julia !!!\n",
      "Julia !!!\n",
      "Julia !!!\n",
      "Julia !!!\n",
      "Julia !!!\n"
     ]
    }
   ],
   "source": [
    "# El siguiente código hace uso de un bucle while, cuando\n",
    "# no es necesario. Escribir el código utilizando un bucle for\n",
    "\n",
    "an_letters = \"aefhilmnorsxAEFHILMNORSX\"\n",
    "word = input(\"I will cheer for you! Enter a word: \")  # Input nos pide que introduzcamos un valor por consola\n",
    "times = int(input(\"Enthusiasm level (1-10): \"))  # El valor es siempre un string, pero necesitamos un entero,\n",
    "                                                 # \"int()\" lo convierte a entero\n",
    "\n",
    "#i = 0\n",
    "#while i < len(word):\n",
    "for i in range(len(word)):\n",
    "    char = word[i]\n",
    "    if char in an_letters:\n",
    "        print(\"Give me an \" + char + \"! \" + char)\n",
    "    else:\n",
    "        print(\"Give me a  \" + char + \"! \" + char)\n",
    "    #i += 1\n",
    "print(\"What does that spell?\")\n",
    "for i in range(times):\n",
    "    print(word, \"!!!\")"
   ]
  },
  {
   "cell_type": "code",
   "execution_count": 30,
   "metadata": {},
   "outputs": [
    {
     "name": "stdout",
     "output_type": "stream",
     "text": [
      "l: [1, 2, 3, 4, 5]\n",
      "m: [5, 4, 3, 2, 1]\n"
     ]
    }
   ],
   "source": [
    "# El siguiente código debería crear una lista \"m\"\n",
    "# que contiene los elemenos de \"l\" en orden inverso,\n",
    "# pero contiene errores.\n",
    "\n",
    "l = [1, 2, 3, 4, 5]\n",
    "\n",
    "m = l[:]\n",
    "for i in range(len(m)): #range(len(m)//2)\n",
    "   j = len(m) - i - 1\n",
    "   m[j] = l[i]\n",
    "#     temp = m[i]\n",
    "#     m[i] = m[j]\n",
    "#     m[j] = temp\n",
    "    \n",
    "print(\"l:\", l)\n",
    "print(\"m:\", m)\n",
    "\n",
    "##Otra opción\n",
    "# l = [1, 2, 3, 4, 5]\n",
    "\n",
    "# m = l.copy()\n",
    "# for i in range(len(m)):\n",
    "#     j = len(m) - i - 1\n",
    "#     m[i] = l[j]\n",
    "    \n",
    "# print(\"l:\", l)\n",
    "# print(\"m:\", m)"
   ]
  },
  {
   "cell_type": "code",
   "execution_count": 40,
   "metadata": {},
   "outputs": [
    {
     "name": "stdout",
     "output_type": "stream",
     "text": [
      "[2, 3, 5, 7, 11, 13, 17, 19, 23, 29]\n"
     ]
    }
   ],
   "source": [
    "# El siguiente código debería obtener los números primos que\n",
    "# existan hasta \"n\", incluyendo \"n\", pero contiene errores.\n",
    "\n",
    "n = 30\n",
    "# Inicializo la lista de numeros primos\n",
    "primos = [2]\n",
    "    \n",
    "# Itero sobre los numeros\n",
    "for i in range(2, n+1):\n",
    "    # go through each of 2...n\n",
    "    for j in primos:\n",
    "        # check if not divisible by elem of list\n",
    "        if i % j == 0:\n",
    "            break\n",
    "    else:\n",
    "        primos.append(i)\n",
    "print(primos)"
   ]
  }
 ],
 "metadata": {
  "kernelspec": {
   "display_name": "Python 3",
   "language": "python",
   "name": "python3"
  },
  "language_info": {
   "codemirror_mode": {
    "name": "ipython",
    "version": 3
   },
   "file_extension": ".py",
   "mimetype": "text/x-python",
   "name": "python",
   "nbconvert_exporter": "python",
   "pygments_lexer": "ipython3",
   "version": "3.6.5"
  }
 },
 "nbformat": 4,
 "nbformat_minor": 2
}
