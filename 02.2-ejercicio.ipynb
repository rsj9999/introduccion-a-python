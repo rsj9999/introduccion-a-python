{
 "cells": [
  {
   "cell_type": "code",
   "execution_count": 8,
   "metadata": {},
   "outputs": [
    {
     "name": "stdout",
     "output_type": "stream",
     "text": [
      "l: [5, 47, 66, 42, 4, 35, 31, 39, 54, 59, 61, 78, 61, 95, 91, 90, 54, 11, 78, 6, 46, 8, 71, 27, 75, 50, 33, 77, 98, 49, 80, 2, 93, 45, 60, 92, 49, 83, 59, 22, 20, 6, 93, 38, 61, 19, 71, 23, 93, 33, 24, 8, 83, 18, 25, 94, 3, 67, 81, 44, 83, 11, 36, 82, 10, 49, 12, 47, 57, 30, 29, 99, 27, 25, 11, 56, 10, 24, 94, 40, 11, 43, 33, 76, 59, 31, 62, 71, 39, 11, 90, 92, 14, 25, 89, 90, 59, 61, 79, 26]\n",
      "\n",
      "m: [92, 68, 35, 57, 76, 6, 26, 75, 4, 43, 90, 67, 51, 68, 93, 8, 84, 11, 85, 31, 4, 11, 1, 50, 87, 53, 58, 57, 75, 15, 27, 99, 59, 89, 24, 18, 46, 31, 88, 21, 43, 16, 18, 76, 2, 54, 82, 78, 98, 4, 80, 71, 4, 96, 99, 33, 97, 19, 67, 82, 13, 21, 49, 32, 74, 85, 45, 81, 49, 46, 42, 30, 51, 48, 96, 8, 52, 75, 59, 7, 57, 53, 35, 98, 13, 13, 19, 68, 9, 40, 39, 16, 51, 5, 88, 57, 70, 9, 78, 55]\n",
      "[1, 7, 9, 13, 15, 16, 21, 32, 48, 51, 52, 53, 55, 58, 68, 70, 74, 84, 85, 87, 88, 96, 97]\n"
     ]
    }
   ],
   "source": [
    "# Escribir el codigo necesario para generar una lista que contenga\n",
    "# los elementos de l que no están en m\n",
    "\n",
    "import random\n",
    "\n",
    "l = [int(100*random.random()) for i in range(100)]\n",
    "m = [int(100*random.random()) for i in range(100)]\n",
    "\n",
    "print(\"l:\", l)\n",
    "print()\n",
    "print(\"m:\", m)\n",
    "\n",
    "# Escribe aquí el código\n",
    "lista = list(set(m)-set(l))\n",
    "print(lista)\n"
   ]
  },
  {
   "cell_type": "code",
   "execution_count": 4,
   "metadata": {},
   "outputs": [
    {
     "name": "stdout",
     "output_type": "stream",
     "text": [
      "0 1 2 4 8 16 "
     ]
    }
   ],
   "source": [
    "# Escribir el código necesario para calcular la sucesión de Fibonacci\n",
    "# para los \"n\" primeros términos, utilizando el esqueleto siguiente\n",
    "\n",
    "n = 20\n",
    "\n",
    "fib = [0, 1]  # Los dos primeros valores de la sucesión.\n",
    "\n",
    "# Escribe aquí el código\n",
    "while fib[0] < n:\n",
    "    print(fib[0], end = ' ')\n",
    "    fib[0] = fib[1]\n",
    "    fib[1] = fib[0] + fib[1]\n",
    "\n",
    "\n"
   ]
  },
  {
   "cell_type": "code",
   "execution_count": 9,
   "metadata": {},
   "outputs": [
    {
     "name": "stdout",
     "output_type": "stream",
     "text": [
      "I will cheer for you! Enter a word: hola\n",
      "Enthusiasm level (1-10): 4\n",
      "Give me an h! h\n",
      "Give me an o! o\n",
      "Give me an l! l\n",
      "Give me an a! a\n",
      "What does that spell?\n",
      "hola !!!\n",
      "hola !!!\n",
      "hola !!!\n",
      "hola !!!\n"
     ]
    }
   ],
   "source": [
    "# El siguiente código hace uso de un bucle while, cuando\n",
    "# no es necesario. Escribir el código utilizando un bucle for\n",
    "\n",
    "an_letters = \"aefhilmnorsxAEFHILMNORSX\"\n",
    "word = input(\"I will cheer for you! Enter a word: \")  # Input nos pide que introduzcamos un valor por consola\n",
    "times = int(input(\"Enthusiasm level (1-10): \"))  # El valor es siempre un string, pero necesitamos un entero,\n",
    "                                                 # \"int()\" lo convierte a entero\n",
    "\n",
    "i = 0\n",
    "#while i < len(word):\n",
    "for i in range(len(word)):\n",
    "    char = word[i]\n",
    "    if char in an_letters:\n",
    "        print(\"Give me an \" + char + \"! \" + char)\n",
    "    else:\n",
    "        print(\"Give me a  \" + char + \"! \" + char)\n",
    "    #i += 1\n",
    "print(\"What does that spell?\")\n",
    "for i in range(times):\n",
    "    print(word, \"!!!\")"
   ]
  },
  {
   "cell_type": "code",
   "execution_count": 7,
   "metadata": {},
   "outputs": [
    {
     "name": "stdout",
     "output_type": "stream",
     "text": [
      "l: [1, 2, 3, 4, 5]\n",
      "m: [5, 4, 3, 2, 1]\n"
     ]
    }
   ],
   "source": [
    "# El siguiente código debería crear una lista \"m\"\n",
    "# que contiene los elemenos de \"l\" en orden inverso,\n",
    "# pero contiene errores.\n",
    "\n",
    "l = [1, 2, 3, 4, 5]\n",
    "\n",
    "m = l[:]\n",
    "for i in range(len(m)): #range(len(m)//2)\n",
    "    j = len(m) - i - 1\n",
    "    m[j] = l[i]\n",
    "    #temp = m[i]\n",
    "    #m[i] = m[j]\n",
    "    #m[j] = temp\n",
    "    \n",
    "print(\"l:\", l)\n",
    "print(\"m:\", m)"
   ]
  },
  {
   "cell_type": "code",
   "execution_count": 17,
   "metadata": {},
   "outputs": [
    {
     "name": "stdout",
     "output_type": "stream",
     "text": [
      "[2, 3, 5, 7, 11, 13, 17, 19, 23, 29]\n"
     ]
    }
   ],
   "source": [
    "# El siguiente código debería obtener los números primos que\n",
    "# existan hasta \"n\", incluyendo \"n\", pero contiene errores.\n",
    "\n",
    "n = 30\n",
    "# Inicializo la lista de numeros primos\n",
    "primos = [2]\n",
    "    \n",
    "# Itero sobre los numeros\n",
    "for i in range(2, n+1):\n",
    "    # go through each of 2...n\n",
    "    for j in primos:\n",
    "        # check if not divisible by elem of list\n",
    "        if i % j == 0:\n",
    "            break\n",
    "    else:\n",
    "        primos.append(i)\n",
    "print(primos)"
   ]
  }
 ],
 "metadata": {
  "kernelspec": {
   "display_name": "Python 3",
   "language": "python",
   "name": "python3"
  },
  "language_info": {
   "codemirror_mode": {
    "name": "ipython",
    "version": 3
   },
   "file_extension": ".py",
   "mimetype": "text/x-python",
   "name": "python",
   "nbconvert_exporter": "python",
   "pygments_lexer": "ipython3",
   "version": "3.6.5"
  }
 },
 "nbformat": 4,
 "nbformat_minor": 2
}
